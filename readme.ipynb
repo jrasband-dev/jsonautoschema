{
 "cells": [
  {
   "cell_type": "markdown",
   "id": "c0395fe2-768b-4407-a984-6fa3cf22f727",
   "metadata": {},
   "source": [
    "# Generate JSON Schemas Automatically using Python\n",
    "\n",
    "## What is JSON Schema?\n",
    "\n",
    "<!-- <figure>\n",
    "  <img src=\"https://json-schema.org/assets/logo.svg\" alt=\"Image\" width=\"200\" height=\"100\">\n",
    "  <figcaption>Logo of json-schema.org</figcaption>\n",
    "</figure> -->\n",
    "\n",
    "\n",
    "JSON Schema is a widely used tool for defining the structure, constraints, and validation rules for JSON data. It provides a standardized way to describe the expected format and properties of JSON documents, allowing developers to validate and ensure the correctness of data exchanged between different systems or components. \n",
    "\n",
    "Check out the JSON Schema Declaration Language at: https://json-schema.org/\n",
    "\n",
    "## Benefits\n",
    "* Validates Data Exchange \n",
    "* Provides a Solution to Schema Evolution\n",
    "* Creates Schema Documentation\n",
    "\n",
    "## JSON Schema & Python\n",
    "\n",
    "Python has a few libraries that enable you to leverage the JSON Schema language. One such library is `jsonschema` which gives functionality to check json documents against json schemas using Python.\n",
    "\n",
    "To my knowledge, there is no Python package available that will take a JSON Document as input and output an auto generated JSON Schema. With this being the case, I started developing one that does."
   ]
  },
  {
   "cell_type": "markdown",
   "id": "d3385cdc-931c-48a4-9901-c394b33c53fe",
   "metadata": {},
   "source": [
    "# Getting Started with jsonautoschema\n",
    "\n",
    "As noted, this libary is in development so the package cannot be installed via `pip`. Source code can be found at: https://github.com/jaycroft/jsonautoschema"
   ]
  },
  {
   "cell_type": "markdown",
   "id": "f3c5bf94-6232-4276-a5f1-0970886452ae",
   "metadata": {},
   "source": [
    "## generate_schema()\n",
    "The generate_schema() function takes a json array or object, analyzes the structure, and returns a standard schema that you can used to validate json documents. It comes with a number of optional arguments that you can use to refine and add informaton to the schema. See below:\n",
    "\n",
    "    json_doc: Union[dict, list],\n",
    "    schema_url: str = None,\n",
    "    uri: str = None,\n",
    "    title: str = None,\n",
    "    description: str = None,\n",
    "    required_cols: Union[str, list] = None,\n",
    "    nullable_cols: Union[str, list] = None,\n",
    "    version: str = None\n"
   ]
  },
  {
   "cell_type": "markdown",
   "id": "9472ca03-7376-496f-9070-5d7fc503c260",
   "metadata": {},
   "source": [
    "## Deserializing JSON\n",
    "In order for the generate_schema() function to work, you need to deserialize the JSON document into python compatible data types. This is fairly straightforward and can be done using the json library. "
   ]
  },
  {
   "cell_type": "code",
   "execution_count": 1,
   "id": "e97d6bea-5573-4f0a-9aef-80c5f26806a2",
   "metadata": {},
   "outputs": [
    {
     "data": {
      "text/plain": [
       "{'_id': 1,\n",
       " 'author': 'Albert Einstein',\n",
       " 'quote': 'Everything should be as simple as it can be, but not simpler!',\n",
       " 'source': 'The Archives'}"
      ]
     },
     "execution_count": 1,
     "metadata": {},
     "output_type": "execute_result"
    }
   ],
   "source": [
    "import json\n",
    "\n",
    "json_document = '''\n",
    "{\n",
    "    \"_id\": 1,\n",
    "    \"author\": \"Albert Einstein\",\n",
    "    \"quote\": \"Everything should be as simple as it can be, but not simpler!\",\n",
    "    \"source\": \"The Archives\"\n",
    "}\n",
    "'''\n",
    "\n",
    "json_data = json.loads(json_document)\n",
    "json_data"
   ]
  },
  {
   "cell_type": "markdown",
   "id": "70789afd-abb9-4033-909e-21fdc4ebdf76",
   "metadata": {
    "tags": []
   },
   "source": [
    "## Using Defaults"
   ]
  },
  {
   "cell_type": "code",
   "execution_count": 2,
   "id": "751dabe4-0c04-444b-a89a-0b903fc23ebc",
   "metadata": {
    "tags": []
   },
   "outputs": [
    {
     "data": {
      "text/plain": [
       "{'type': 'object',\n",
       " 'properties': {'_id': {'type': 'integer'},\n",
       "  'author': {'type': 'string'},\n",
       "  'quote': {'type': 'string'},\n",
       "  'source': {'type': 'string'}},\n",
       " 'required': ['_id', 'author', 'quote', 'source']}"
      ]
     },
     "execution_count": 2,
     "metadata": {},
     "output_type": "execute_result"
    }
   ],
   "source": [
    "import jsonautoschema\n",
    "schema = jsonautoschema.generate_schema(json_data)\n",
    "schema"
   ]
  },
  {
   "cell_type": "code",
   "execution_count": 3,
   "id": "8c92721d-3dd0-4dc5-b76c-84b87e2ae9dd",
   "metadata": {
    "tags": []
   },
   "outputs": [
    {
     "name": "stdout",
     "output_type": "stream",
     "text": [
      "Meets Schema Requirements\n"
     ]
    }
   ],
   "source": [
    "jsonautoschema.validate_json(json_data,schema)"
   ]
  },
  {
   "cell_type": "markdown",
   "id": "cf6730a1-aaf3-4113-a19e-851096126d5c",
   "metadata": {},
   "source": [
    "## Required & Nullable Columns\n",
    "With the generate_schema() function, you can see required and nullable columns. You can specify these as a string or a list of strings in python. "
   ]
  },
  {
   "cell_type": "code",
   "execution_count": 4,
   "id": "416cf96a-ba00-4232-9780-ba9014f41190",
   "metadata": {
    "tags": []
   },
   "outputs": [
    {
     "data": {
      "text/plain": [
       "{'type': 'object',\n",
       " 'properties': {'_id': {'type': 'integer'},\n",
       "  'author': {'type': 'string'},\n",
       "  'quote': {'type': ['string', 'null']},\n",
       "  'source': {'type': 'string'}},\n",
       " 'required': ['author', 'source']}"
      ]
     },
     "execution_count": 4,
     "metadata": {},
     "output_type": "execute_result"
    }
   ],
   "source": [
    "import jsonautoschema\n",
    "schema = jsonautoschema.generate_schema(json_data\n",
    "                                        ,required_cols=['author','source']\n",
    "                                        ,nullable_cols=['quote']\n",
    "                                        )\n",
    "schema"
   ]
  },
  {
   "cell_type": "code",
   "execution_count": 5,
   "id": "8225d1b5-b16d-4df9-a953-7befdbdc465a",
   "metadata": {
    "tags": []
   },
   "outputs": [
    {
     "name": "stdout",
     "output_type": "stream",
     "text": [
      "Meets Schema Requirements\n"
     ]
    }
   ],
   "source": [
    "jsonautoschema.validate_json(json_data,schema)"
   ]
  },
  {
   "cell_type": "markdown",
   "id": "a36b4b52-a125-46da-a9fd-cee2fcfa170c",
   "metadata": {},
   "source": [
    "## Versioning & Schema Documentation\n",
    "As your web application evolves, your JSON Schemas are likely to change. Within the generate_schema() function, you can add a version number and descriptive information to document changes to your schema. See the code below for an example:"
   ]
  },
  {
   "cell_type": "code",
   "execution_count": 6,
   "id": "7727f172-7438-4cc1-8a01-268527fb60bf",
   "metadata": {
    "tags": []
   },
   "outputs": [
    {
     "data": {
      "text/plain": [
       "{'type': 'object',\n",
       " 'properties': {'_id': {'type': 'integer'},\n",
       "  'author': {'type': 'string'},\n",
       "  'quote': {'type': 'string'},\n",
       "  'source': {'type': 'string'}},\n",
       " 'required': ['_id', 'author', 'quote', 'source'],\n",
       " 'title': 'Quotes',\n",
       " 'description': 'Standard Quote Format',\n",
       " 'version': '1.0.0'}"
      ]
     },
     "execution_count": 6,
     "metadata": {},
     "output_type": "execute_result"
    }
   ],
   "source": [
    "import jsonautoschema\n",
    "schema = jsonautoschema.generate_schema(json_data\n",
    "                                        ,version='1.0.0'\n",
    "                                        ,title='Quotes'\n",
    "                                        ,description='Standard Quote Format'\n",
    "                                        )\n",
    "schema"
   ]
  },
  {
   "cell_type": "code",
   "execution_count": 7,
   "id": "20baf33b-6505-4fa9-b4f2-ced561b4b0b2",
   "metadata": {
    "tags": []
   },
   "outputs": [
    {
     "name": "stdout",
     "output_type": "stream",
     "text": [
      "Meets Schema Requirements\n"
     ]
    }
   ],
   "source": [
    "jsonautoschema.validate_json(json_data,schema)"
   ]
  },
  {
   "cell_type": "markdown",
   "id": "21140d73-e080-483b-8a28-31384ba3e089",
   "metadata": {},
   "source": [
    "## Interpreting JSON Structures\n",
    "The generate schema function automatically interprets the root json structure used. In the last few examples, we looked at a JSON document with its root sturcture as an object. Check out the code below to see an example of a JSON document with th root structure as an array."
   ]
  },
  {
   "cell_type": "code",
   "execution_count": 8,
   "id": "4dfd6739-b474-4c25-93c5-30f5ff9d6e5b",
   "metadata": {
    "tags": []
   },
   "outputs": [
    {
     "data": {
      "text/plain": [
       "[{'_id': 1,\n",
       "  'author': 'Albert Einstein',\n",
       "  'quote': 'Everything should be as simple as it can be, but not simpler!',\n",
       "  'source': 'The Archives'}]"
      ]
     },
     "execution_count": 8,
     "metadata": {},
     "output_type": "execute_result"
    }
   ],
   "source": [
    "import json\n",
    "\n",
    "json_document = '''\n",
    "[\n",
    "    {\n",
    "    \"_id\": 1,\n",
    "    \"author\": \"Albert Einstein\",\n",
    "    \"quote\": \"Everything should be as simple as it can be, but not simpler!\",\n",
    "    \"source\": \"The Archives\"\n",
    "    }\n",
    "]\n",
    "'''\n",
    "\n",
    "json_data = json.loads(json_document)\n",
    "json_data"
   ]
  },
  {
   "cell_type": "code",
   "execution_count": 9,
   "id": "702c0fb7-4e83-4886-a252-1afa1a4ba2d9",
   "metadata": {
    "tags": []
   },
   "outputs": [
    {
     "data": {
      "text/plain": [
       "{'type': 'array',\n",
       " 'items': {'type': 'object',\n",
       "  'properties': {'_id': {'type': 'integer'},\n",
       "   'author': {'type': 'string'},\n",
       "   'quote': {'type': ['string', 'null']},\n",
       "   'source': {'type': 'string'}},\n",
       "  'required': ['author', 'source']}}"
      ]
     },
     "execution_count": 9,
     "metadata": {},
     "output_type": "execute_result"
    }
   ],
   "source": [
    "import jsonautoschema\n",
    "schema = jsonautoschema.generate_schema(json_data\n",
    "                                        ,required_cols=['author','source']\n",
    "                                        ,nullable_cols=['quote']\n",
    "                                        )\n",
    "schema"
   ]
  }
 ],
 "metadata": {
  "kernelspec": {
   "display_name": "Python 3 (ipykernel)",
   "language": "python",
   "name": "python3"
  },
  "language_info": {
   "codemirror_mode": {
    "name": "ipython",
    "version": 3
   },
   "file_extension": ".py",
   "mimetype": "text/x-python",
   "name": "python",
   "nbconvert_exporter": "python",
   "pygments_lexer": "ipython3",
   "version": "3.11.3"
  }
 },
 "nbformat": 4,
 "nbformat_minor": 5
}
